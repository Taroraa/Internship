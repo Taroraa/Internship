{
 "cells": [
  {
   "cell_type": "code",
   "execution_count": 1,
   "id": "fa29080c",
   "metadata": {},
   "outputs": [],
   "source": [
    "import re"
   ]
  },
  {
   "cell_type": "code",
   "execution_count": 2,
   "id": "820262be",
   "metadata": {},
   "outputs": [
    {
     "name": "stdout",
     "output_type": "stream",
     "text": [
      "Python:Exercises::PHP:exercises:\n"
     ]
    }
   ],
   "source": [
    "# Exercise 1\n",
    "def replace_characters(input_string):\n",
    "    pattern = r'[ ,.]'\n",
    "    replacement = ':'\n",
    "    new_string =re.sub(pattern, replacement, input_string)\n",
    "    return new_string\n",
    "\n",
    "text = \"Python Exercises, PHP exercises.\"\n",
    "new_text = replace_characters(text)\n",
    "print(new_text)"
   ]
  },
  {
   "cell_type": "code",
   "execution_count": 3,
   "id": "b492abe6",
   "metadata": {},
   "outputs": [
    {
     "name": "stdout",
     "output_type": "stream",
     "text": [
      "Enter a sentence: abe cda ebc\n",
      "Words starting with a or e:  ['abe', 'ebc']\n"
     ]
    }
   ],
   "source": [
    "# Exercise 2\n",
    "def find_words_starting_with_a_or_e(input_string):\n",
    "    pattern = r'\\b[aeAE]\\w+\\b'\n",
    "    matches = re.findall(pattern, input_string)\n",
    "    return matches\n",
    "user_input = input(\"Enter a sentence: \")\n",
    "result = find_words_starting_with_a_or_e(user_input)\n",
    "print(\"Words starting with a or e: \", result)"
   ]
  },
  {
   "cell_type": "code",
   "execution_count": 4,
   "id": "fce859a4",
   "metadata": {},
   "outputs": [
    {
     "name": "stdout",
     "output_type": "stream",
     "text": [
      "Enter a sentence: The book is on the table\n",
      "Long words:  ['book', 'table']\n"
     ]
    }
   ],
   "source": [
    "# Exercise 3\n",
    "def long_words(input_string):\n",
    "    pattern = re.compile(r'\\b\\w{4,}\\b')\n",
    "    matches = pattern.findall(input_string)\n",
    "    return matches\n",
    "\n",
    "user_input = input(\"Enter a sentence: \")\n",
    "result = long_words(user_input)\n",
    "print(\"Long words: \", result)"
   ]
  },
  {
   "cell_type": "code",
   "execution_count": 5,
   "id": "421da7fc",
   "metadata": {},
   "outputs": [
    {
     "name": "stdout",
     "output_type": "stream",
     "text": [
      "Enter a sentence: The book is on the table\n",
      "3, 4 and 5 characters words:  ['The', 'book', 'the', 'table']\n"
     ]
    }
   ],
   "source": [
    "# Exercise 4\n",
    "def words_with_certain_lenght(input_string):\n",
    "    pattern = re.compile(r'\\b\\w{3,5}\\b')\n",
    "    matches = pattern.findall(input_string)\n",
    "    return matches\n",
    "\n",
    "user_input = input(\"Enter a sentence: \")\n",
    "result = words_with_certain_lenght(user_input)\n",
    "print(\"3, 4 and 5 characters words: \", result)"
   ]
  },
  {
   "cell_type": "code",
   "execution_count": 6,
   "id": "514e8591",
   "metadata": {},
   "outputs": [
    {
     "name": "stdout",
     "output_type": "stream",
     "text": [
      "example\n",
      "hr@fliprobo\n",
      "github\n",
      "Hello\n",
      "Data\n"
     ]
    }
   ],
   "source": [
    "# Exercise 5\n",
    "def remove_parentheses(strings_list):\n",
    "    pattern = re.compile(r'\\([^)]*\\)')\n",
    "    cleaned_strings_list = []           \n",
    "    \n",
    "    for string in strings_list:\n",
    "        cleaned_string = pattern.sub('', string)\n",
    "        cleaned_strings_list.append(cleaned_string.strip())     \n",
    "    return cleaned_strings_list\n",
    "        \n",
    "sample_text = [\n",
    "    \"example (.com)\",\n",
    "    \"hr@fliprobo (.com)\", \n",
    "    \"github (.com)\", \n",
    "    \"Hello (Data Science World)\",\n",
    "    \"Data (Scientist)\"\n",
    "]\n",
    "                         \n",
    "output = remove_parentheses(sample_text)\n",
    "for cleaned_string in output:\n",
    "    print(cleaned_string)"
   ]
  },
  {
   "cell_type": "code",
   "execution_count": 7,
   "id": "1829df69",
   "metadata": {},
   "outputs": [
    {
     "name": "stdout",
     "output_type": "stream",
     "text": [
      "Cleaned text:\n",
      "[\"example \", \"hr@fliprobo \", \"github \", \"Hello \", \"Data \"]\n"
     ]
    }
   ],
   "source": [
    "# Exercise 6\n",
    "def remove_parentheses_area(file_path):\n",
    "    with open(file_path, 'r') as file:\n",
    "        text = file.read()\n",
    "        cleaned_text = re.sub(r'\\([^()]*\\)', '', text)\n",
    "        return cleaned_text\n",
    "\n",
    "file_path = 'C:\\\\Users\\\\leand\\\\OneDrive\\\\Área de Trabalho\\\\Question 6.txt'  # Replace with the path to your text file\n",
    "cleaned_text = remove_parentheses_area(file_path)\n",
    "\n",
    "print(\"Cleaned text:\")\n",
    "print(cleaned_text)"
   ]
  },
  {
   "cell_type": "code",
   "execution_count": 8,
   "id": "57baabfa",
   "metadata": {},
   "outputs": [
    {
     "name": "stdout",
     "output_type": "stream",
     "text": [
      "['Importance', 'Of', 'Regular', 'Expressions', 'In', 'Python']\n"
     ]
    }
   ],
   "source": [
    "# Exercise 7\n",
    "sample_text = \"ImportanceOfRegularExpressionsInPython\"\n",
    "words = re.findall(r'[A-Z][a-z]*', sample_text)\n",
    "print(words)"
   ]
  },
  {
   "cell_type": "code",
   "execution_count": 9,
   "id": "f4f122c1",
   "metadata": {},
   "outputs": [
    {
     "name": "stdout",
     "output_type": "stream",
     "text": [
      "RegularExpression1 IsAn2 ImportantTopic3 InPython\n"
     ]
    }
   ],
   "source": [
    "# Exercise 8\n",
    "def insert_spaces(input_text):\n",
    "    modified_text = re.sub(r'(?<=[0-9])(?=[A-Za-z])', ' ', input_text)\n",
    "    return modified_text\n",
    "\n",
    "sample_text = \"RegularExpression1IsAn2ImportantTopic3InPython\"\n",
    "output_text = insert_spaces(sample_text)\n",
    "print(output_text)"
   ]
  },
  {
   "cell_type": "code",
   "execution_count": 10,
   "id": "6b6f8f4b",
   "metadata": {},
   "outputs": [
    {
     "name": "stdout",
     "output_type": "stream",
     "text": [
      "Regular Expression 1 Is An 2 Important Topic 3 In Python\n"
     ]
    }
   ],
   "source": [
    "# Exercise 9\n",
    "def insert_spaces(input_text):\n",
    "    modified_text = re.sub(r'(?<=[A-Z0-9])(?=[A-Z0-9])|(?<=[a-z0-9])(?=[A-Z0-9])', ' ', input_text)\n",
    "    return modified_text\n",
    "                           \n",
    "sample_text = \"RegularExpression1IsAn2ImportantTopic3InPython\"\n",
    "output_text = insert_spaces(sample_text)\n",
    "print(output_text)    "
   ]
  },
  {
   "cell_type": "code",
   "execution_count": 12,
   "id": "4a7853ce",
   "metadata": {},
   "outputs": [
    {
     "name": "stdout",
     "output_type": "stream",
     "text": [
      "Extracted email addresses:\n",
      "xyz@domain.com\n",
      "xyz.abc@sdomain.domain.com\n",
      "hr@fliprobo.com\n"
     ]
    }
   ],
   "source": [
    "# Exercise 10\n",
    "def extract_emails_from_file(file_path):\n",
    "    with open(file_path, 'r') as file:\n",
    "        text = file.read()\n",
    "        email_pattern = r'\\b[A-Za-z0-9._%+-]+@[A-Za-z0-9.-]+\\.[A-Z|a-z]{2,7}\\b'\n",
    "        emails = re.findall(email_pattern, text)\n",
    "        return emails\n",
    "\n",
    "file_path = 'C:\\\\Users\\\\leand\\OneDrive\\\\Área de Trabalho\\\\Question 10.txt'  # Replace with the path to your text file\n",
    "extracted_emails = extract_emails_from_file(file_path)\n",
    "\n",
    "print(\"Extracted email addresses:\")\n",
    "for email in extracted_emails:\n",
    "    print(email)"
   ]
  },
  {
   "cell_type": "code",
   "execution_count": 13,
   "id": "b814ce8a",
   "metadata": {},
   "outputs": [
    {
     "name": "stdout",
     "output_type": "stream",
     "text": [
      "Enter a string: The book is2 2on\n",
      "Not matched\n"
     ]
    }
   ],
   "source": [
    "# Exercise 11\n",
    "def text_match(text):\n",
    "    pattern = r'^[A-Za-z_0-9]*$'\n",
    "    if re.match(pattern, text):\n",
    "        return 'Found a match.'\n",
    "    else:\n",
    "        return 'Not matched'\n",
    "\n",
    "user_input = input('Enter a string: ')\n",
    "result = text_match(user_input)\n",
    "print(result)"
   ]
  },
  {
   "cell_type": "code",
   "execution_count": 14,
   "id": "8c8edddd",
   "metadata": {},
   "outputs": [
    {
     "name": "stdout",
     "output_type": "stream",
     "text": [
      "Enter a string: 123\n",
      "Enter a specific number: 1234\n",
      "The string doesn't start with 1234\n"
     ]
    }
   ],
   "source": [
    "# Exercise 12\n",
    "def check_specific_number(string, number):\n",
    "    pattern = re.compile(f\"^{number}\")\n",
    "    if pattern.match(string):\n",
    "        return True\n",
    "    else:\n",
    "        return False\n",
    "    \n",
    "user_input = input(\"Enter a string: \")\n",
    "specific_number = input(\"Enter a specific number: \")\n",
    "\n",
    "if check_specific_number(user_input, specific_number):\n",
    "    print(f\"The string starts with {specific_number}\")\n",
    "else:\n",
    "    print(f\"The string doesn't start with {specific_number}\")"
   ]
  },
  {
   "cell_type": "code",
   "execution_count": 15,
   "id": "b7e4b148",
   "metadata": {},
   "outputs": [
    {
     "name": "stdout",
     "output_type": "stream",
     "text": [
      "192.23.1.23\n"
     ]
    }
   ],
   "source": [
    "# Exercise 13\n",
    "ip = \"192.023.01.23\"\n",
    "no_zeros = re.sub('\\.[0]*', '.', ip)\n",
    "print(no_zeros)"
   ]
  },
  {
   "cell_type": "code",
   "execution_count": 16,
   "id": "ed44b6f4",
   "metadata": {},
   "outputs": [
    {
     "name": "stdout",
     "output_type": "stream",
     "text": [
      "Extracted dates:\n",
      "August 15th 1947\n"
     ]
    }
   ],
   "source": [
    "# Exercise 14\n",
    "def extract_dates_from_file(file_path):\n",
    "    with open(file_path, 'r') as file:\n",
    "        text = file.read()\n",
    "        date_pattern = r'\\b(?:January|February|March|April|May|June|July|August|September|October|November|December)\\s+\\d{1,2}(?:st|nd|rd|th)?\\s+\\d{4}\\b'\n",
    "        dates = re.findall(date_pattern, text)\n",
    "        return dates\n",
    "\n",
    "file_path = 'C:\\\\Users\\\\leand\\\\OneDrive\\\\Área de Trabalho\\\\Question 14.txt'\n",
    "extracted_dates = extract_dates_from_file(file_path)\n",
    "\n",
    "print(\"Extracted dates:\")\n",
    "for date in extracted_dates:\n",
    "    print(date)"
   ]
  },
  {
   "cell_type": "code",
   "execution_count": 17,
   "id": "251194d4",
   "metadata": {},
   "outputs": [
    {
     "name": "stdout",
     "output_type": "stream",
     "text": [
      "\"fox\" found in text\n",
      "\"dog\" found in text\n",
      "\"horse\" not found in text\n"
     ]
    }
   ],
   "source": [
    "# Exercise 15\n",
    "patterns = ['fox', 'dog', 'horse']\n",
    "text = 'The quick brown fox jumps over the lazy dog.'\n",
    "\n",
    "for pattern in patterns:\n",
    "    if re.search(pattern, text):\n",
    "        print(f'\"{pattern}\" found in text')\n",
    "    else:\n",
    "        print(f'\"{pattern}\" not found in text')"
   ]
  },
  {
   "cell_type": "code",
   "execution_count": 18,
   "id": "27906268",
   "metadata": {},
   "outputs": [
    {
     "name": "stdout",
     "output_type": "stream",
     "text": [
      "Found \"fox\" in \"The quick brown fox jumps over the lazy dog.\" on position 16 \n"
     ]
    }
   ],
   "source": [
    "# Exercise 16\n",
    "word = 'fox'\n",
    "text = 'The quick brown fox jumps over the lazy dog.'\n",
    "match = re.search(word, text)\n",
    "s = match.start()\n",
    "e = match.end()\n",
    "print('Found \"%s\" in \"%s\" on position %d ' % \\\n",
    "    (match.re.pattern, match.string, s))"
   ]
  },
  {
   "cell_type": "code",
   "execution_count": 19,
   "id": "6c561e6c",
   "metadata": {},
   "outputs": [
    {
     "name": "stdout",
     "output_type": "stream",
     "text": [
      "exercises occurrences: 3\n",
      "exercises found at: [7, 22, 36]\n"
     ]
    }
   ],
   "source": [
    "# Exercise 17\n",
    "text = 'Python exercises, PHP exercises, C# exercises'\n",
    "pattern = 'exercises'\n",
    "\n",
    "matches = list(re.finditer(pattern, text))\n",
    "\n",
    "print(f'{pattern} occurrences: {len(matches)}')\n",
    "print(f'{pattern} found at: {[match.start() for match in matches]}')"
   ]
  },
  {
   "cell_type": "code",
   "execution_count": 21,
   "id": "a3eb9568",
   "metadata": {},
   "outputs": [
    {
     "name": "stdout",
     "output_type": "stream",
     "text": [
      "Input text: The book is on the table\n",
      "Input pattern: table\n",
      "Occurrence: 1\n",
      "Position: [19]\n"
     ]
    }
   ],
   "source": [
    "# Exercise 18\n",
    "text = input('Input text: ')\n",
    "pattern = input('Input pattern: ')\n",
    "\n",
    "matches = list(re.finditer(pattern, text))\n",
    "\n",
    "print(f'Occurrence: {len(matches)}')\n",
    "print(f'Position: {[match.start() for match in matches]}')"
   ]
  },
  {
   "cell_type": "code",
   "execution_count": 22,
   "id": "8f559cd3",
   "metadata": {},
   "outputs": [
    {
     "name": "stdout",
     "output_type": "stream",
     "text": [
      "Enter a date in yyyy-mm-dd format: 1988-06-30\n",
      "Converted date in dd-mm-yyyy format: 30-06-1988\n"
     ]
    }
   ],
   "source": [
    "# Exercise 19\n",
    "def change_date_format(dt):\n",
    "    return re.sub(r'(\\d{4})-(\\d{1,2})-(\\d{1,2})', r'\\3-\\2-\\1', dt)\n",
    "\n",
    "user_input = input(\"Enter a date in yyyy-mm-dd format: \")\n",
    "\n",
    "try:\n",
    "    converted_date = change_date_format(user_input)\n",
    "    print(\"Converted date in dd-mm-yyyy format:\", converted_date)\n",
    "except:\n",
    "    print(\"Invalid date format. Please use yyyy-mm-dd format.\")"
   ]
  },
  {
   "cell_type": "code",
   "execution_count": 23,
   "id": "b983ce3c",
   "metadata": {},
   "outputs": [
    {
     "name": "stdout",
     "output_type": "stream",
     "text": [
      "Numbers:  ['01.12', '0132.12', '2.31', '145.8', '3.01', '27.25', '0.25']\n"
     ]
    }
   ],
   "source": [
    "# Exercise 20\n",
    "def decimal_numbers(text):\n",
    "    pattern = re.compile(r'\\d+\\.\\d{1,2}')\n",
    "    return pattern.findall(text)\n",
    "\n",
    "text = '01.12 0132.123 2.31875 145.8 3.01 27.25 0.25'\n",
    "numbers = decimal_numbers(text)\n",
    "print('Numbers: ', numbers)"
   ]
  },
  {
   "cell_type": "code",
   "execution_count": 25,
   "id": "9814434b",
   "metadata": {},
   "outputs": [
    {
     "name": "stdout",
     "output_type": "stream",
     "text": [
      "Enter a text: The number is 44\n",
      "Number:  44, Position: 14\n"
     ]
    }
   ],
   "source": [
    "# Exercise 21\n",
    "def find_number_in_positions(text):\n",
    "    pattern = re.compile(r'\\d+(\\.\\d+)?')\n",
    "    matches = pattern.finditer(text)\n",
    "    number_and_position = [(match.group(),match.start()) for match in matches]\n",
    "    return number_and_position\n",
    "\n",
    "user_input = input('Enter a text: ')\n",
    "number_and_position = find_number_in_positions(user_input)\n",
    "for number, position in number_and_position:\n",
    "    print(f'Number:  {number}, Position: {position}')"
   ]
  },
  {
   "cell_type": "code",
   "execution_count": 26,
   "id": "e04ea22d",
   "metadata": {},
   "outputs": [
    {
     "name": "stdout",
     "output_type": "stream",
     "text": [
      "Maximum value: 950\n"
     ]
    }
   ],
   "source": [
    "# Exercise 22\n",
    "sample_text = 'My marks in each semester are: 947, 896, 926, 524, 734, 950, 642'\n",
    "numbers = re.findall(r'\\d+', sample_text)\n",
    "max_value = max(map(int, numbers))\n",
    "\n",
    "print(f'Maximum value: {max_value}')"
   ]
  },
  {
   "cell_type": "code",
   "execution_count": 27,
   "id": "cee06667",
   "metadata": {},
   "outputs": [
    {
     "name": "stdout",
     "output_type": "stream",
     "text": [
      "Regular Expression Is An Important Topic In Python\n"
     ]
    }
   ],
   "source": [
    "# Exercise 23\n",
    "def insert_spaces_between_capital_words(text):\n",
    "    modified_text = re.sub(r'([a-z])([A-Z])', r'\\1 \\2', text)\n",
    "    return modified_text\n",
    "\n",
    "sample_text = \"RegularExpressionIsAnImportantTopicInPython\"\n",
    "output_text = insert_spaces_between_capital_words(sample_text)\n",
    "print(output_text)"
   ]
  },
  {
   "cell_type": "code",
   "execution_count": 28,
   "id": "22152159",
   "metadata": {},
   "outputs": [
    {
     "name": "stdout",
     "output_type": "stream",
     "text": [
      "Enter a text: The car is great\n",
      "['The']\n"
     ]
    }
   ],
   "source": [
    "# Exercise 24\n",
    "pattern = r'[A-Z][a-z]+'\n",
    "\n",
    "text = input(\"Enter a text: \")\n",
    "sequences = re.findall(pattern, text)\n",
    "\n",
    "print(sequences)"
   ]
  },
  {
   "cell_type": "code",
   "execution_count": 29,
   "id": "462083dc",
   "metadata": {},
   "outputs": [
    {
     "name": "stdout",
     "output_type": "stream",
     "text": [
      "Hello world\n"
     ]
    }
   ],
   "source": [
    "# Exercise 25\n",
    "def remove_continuous_duplicates(sentence):\n",
    "    pattern = r'\\b(\\w+)\\s+\\1\\b'\n",
    "    modified_sentence = re.sub(pattern, r'\\1', sentence, flags=re.IGNORECASE)\n",
    "    return modified_sentence\n",
    "\n",
    "sample_text = \"Hello hello world world\"\n",
    "output_text = remove_continuous_duplicates(sample_text)\n",
    "print(output_text)"
   ]
  },
  {
   "cell_type": "code",
   "execution_count": 30,
   "id": "35b59a85",
   "metadata": {},
   "outputs": [
    {
     "name": "stdout",
     "output_type": "stream",
     "text": [
      "Extracted dates:\n",
      "August 15th 1947\n"
     ]
    }
   ],
   "source": [
    "# Exercise 26\n",
    "def extract_dates_from_file(file_path):\n",
    "    with open(file_path, 'r') as file:\n",
    "        text = file.read()\n",
    "        date_pattern = r'\\b\\d{2}-\\d{2}-\\d{4}\\b'\n",
    "        dates = re.findall(date_pattern, text)\n",
    "        return dates\n",
    "\n",
    "file_path = 'C:\\\\Users\\\\leand\\\\OneDrive\\\\Área de Trabalho\\\\Question 29.txt'\n",
    "\n",
    "print(\"Extracted dates:\")\n",
    "for date in extracted_dates:\n",
    "    print(date)"
   ]
  },
  {
   "cell_type": "code",
   "execution_count": 31,
   "id": "ee4e18dc",
   "metadata": {},
   "outputs": [
    {
     "name": "stdout",
     "output_type": "stream",
     "text": [
      "Enter a string: haajnln mwmim3\n",
      "String ends with an alphanumeric character.\n"
     ]
    }
   ],
   "source": [
    "# Exercise 27\n",
    "def check_ending_alphanumeric(text):\n",
    "    pattern = r'\\w$'\n",
    "    if re.search(pattern, text):\n",
    "        return True\n",
    "    else:\n",
    "        return False\n",
    "\n",
    "user_input = input(\"Enter a string: \")\n",
    "if check_ending_alphanumeric(user_input):\n",
    "    print(\"String ends with an alphanumeric character.\")\n",
    "else:\n",
    "    print(\"String does not end with an alphanumeric character.\")"
   ]
  },
  {
   "cell_type": "code",
   "execution_count": 32,
   "id": "aa601db8",
   "metadata": {},
   "outputs": [
    {
     "name": "stdout",
     "output_type": "stream",
     "text": [
      "['#Doltiwal', '#xyzabc', '#Demonetization']\n"
     ]
    }
   ],
   "source": [
    "# Exercise 28\n",
    "def extract_hashtags(text):\n",
    "    pattern = r'#\\w+'\n",
    "    hashtags = re.findall(pattern, text)\n",
    "    return hashtags\n",
    "\n",
    "sample_text = \"\"\"RT @kapil_kausik: #Doltiwal I mean #xyzabc is \"hurt\" by #Demonetization as the same has rendered USELESS <ed><U+00A0><U+00BD><ed><U+00B1><U+0089> \"acquired funds\" No wo\"\"\"\n",
    "hashtags = extract_hashtags(sample_text)\n",
    "print(hashtags)"
   ]
  },
  {
   "cell_type": "code",
   "execution_count": 33,
   "id": "479046e2",
   "metadata": {},
   "outputs": [
    {
     "name": "stdout",
     "output_type": "stream",
     "text": [
      "@Jags123456 Bharat band on 28??<ed><ed>Those who  are protesting #demonetization  are all different party leaders\n"
     ]
    }
   ],
   "source": [
    "# Exercise 28\n",
    "def remove_u_symbols(text):\n",
    "    pattern = r'<U\\+\\w{4}>'\n",
    "    modified_text = re.sub(pattern, '', text)\n",
    "    return modified_text\n",
    "\n",
    "sample_text = \"@Jags123456 Bharat band on 28??<ed><U+00A0><U+00BD><ed><U+00B8><U+0082>Those who  are protesting #demonetization  are all different party leaders\"\n",
    "output_text = remove_u_symbols(sample_text)\n",
    "print(output_text)"
   ]
  },
  {
   "cell_type": "code",
   "execution_count": null,
   "id": "108697bd",
   "metadata": {},
   "outputs": [],
   "source": [
    "# Exercise 29\n",
    "def extract_dates_from_file(file_path):\n",
    "    with open(file_path, 'r') as file:\n",
    "        text = file.read()\n",
    "        date_pattern = r'\\b\\d{2}-\\d{2}-\\d{4}\\b'\n",
    "        dates = re.findall(date_pattern, text)\n",
    "        return dates\n",
    "\n",
    "file_path = 'C:\\\\Users\\\\leand\\\\OneDrive\\\\Área de Trabalho\\\\Question 29.txt'\n",
    "extracted_dates = extract_dates_from_file(file_path)\n",
    "\n",
    "print(\"Extracted dates:\")\n",
    "for date in extracted_dates:\n",
    "    print(date)"
   ]
  },
  {
   "cell_type": "code",
   "execution_count": 34,
   "id": "4af4f205",
   "metadata": {},
   "outputs": [
    {
     "name": "stdout",
     "output_type": "stream",
     "text": [
      " following example creates  ArrayList  a capacity   elements. 4 elements   added   ArrayList   ArrayList  trimmed accordingly.\n"
     ]
    }
   ],
   "source": [
    "# Exercise 30\n",
    "def remove_words_between_length(text):\n",
    "    pattern = re.compile(r'\\b\\w{2,4}\\b')\n",
    "    modified_text = re.sub(pattern, '', text)\n",
    "    return modified_text\n",
    "\n",
    "sample_text = \"The following example creates an ArrayList with a capacity of 50 elements. 4 elements are then added to the ArrayList and the ArrayList is trimmed accordingly.\"\n",
    "output_text = remove_words_between_length(sample_text)\n",
    "print(output_text)"
   ]
  }
 ],
 "metadata": {
  "kernelspec": {
   "display_name": "Python 3 (ipykernel)",
   "language": "python",
   "name": "python3"
  },
  "language_info": {
   "codemirror_mode": {
    "name": "ipython",
    "version": 3
   },
   "file_extension": ".py",
   "mimetype": "text/x-python",
   "name": "python",
   "nbconvert_exporter": "python",
   "pygments_lexer": "ipython3",
   "version": "3.9.13"
  }
 },
 "nbformat": 4,
 "nbformat_minor": 5
}
